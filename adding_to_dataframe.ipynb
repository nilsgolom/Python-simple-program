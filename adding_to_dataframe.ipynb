{
 "cells": [
  {
   "cell_type": "code",
   "execution_count": 7,
   "metadata": {},
   "outputs": [],
   "source": [
    "import pandas as pd"
   ]
  },
  {
   "cell_type": "markdown",
   "metadata": {},
   "source": [
    "This program is to add a new row to an existing table/dataframe"
   ]
  },
  {
   "cell_type": "code",
   "execution_count": 4,
   "metadata": {},
   "outputs": [
    {
     "name": "stdout",
     "output_type": "stream",
     "text": [
      "   Name   ID       Department  Salary\n",
      "0  Rose    1  Architect Group  100000\n",
      "1  John    2   Software Group   80000\n",
      "2  Jane    3      Design Team   50000\n",
      "3  Mary    4   Infrastructure   60000\n",
      "4  nils  105         Engineer   75000\n"
     ]
    }
   ],
   "source": [
    "#Define a dictionary 'x'\n",
    "\n",
    "\n",
    "x = {'Name': ['Rose','John', 'Jane', 'Mary'], 'ID': [1, 2, 3, 4], 'Department': ['Architect Group', 'Software Group', 'Design Team', 'Infrastructure'], \n",
    "      'Salary':[100000, 80000, 50000, 60000]}\n",
    "\n",
    "#casting the dictionary to a DataFrame\n",
    "df = pd.DataFrame(x)\n",
    "#dictAppend = {\"Name\":\"jame\", \"ID\": 5, \"Department\": \"engineer\", \"Salary\" :70000}\n",
    "df.loc[len(df.index)] = ['nils', 105, \"Engineer\", 75000] #syntax for new row Nils added new row\n",
    "\n",
    "#display the result df\n",
    "print(df)"
   ]
  },
  {
   "cell_type": "markdown",
   "metadata": {},
   "source": [
    "Below is a different attemp at adding a new row to an existing table/dataframe"
   ]
  },
  {
   "cell_type": "code",
   "execution_count": 5,
   "metadata": {},
   "outputs": [
    {
     "name": "stdout",
     "output_type": "stream",
     "text": [
      "   Name   ID       Department  Salary\n",
      "0  Rose    1  Architect Group  100000\n",
      "1  John    2   Software Group   80000\n",
      "2  Jane    3      Design Team   50000\n",
      "3  Mary    4   Infrastructure   60000\n",
      "4  nils  105         Engineer   75000\n"
     ]
    }
   ],
   "source": [
    "#Define a dictionary 'x'\n",
    "\n",
    "\n",
    "x = {'Name': ['Rose','John', 'Jane', 'Mary'], 'ID': [1, 2, 3, 4], 'Department': ['Architect Group', 'Software Group', 'Design Team', 'Infrastructure'], \n",
    "      'Salary':[100000, 80000, 50000, 60000]}\n",
    "\n",
    "#casting the dictionary to a DataFrame\n",
    "df = pd.DataFrame(x)\n",
    "#dictAppend = {\"Name\":\"jame\", \"ID\": 5, \"Department\": \"engineer\", \"Salary\" :70000}\n",
    "df.loc[4] = ['nils', 105, \"Engineer\", 75000] #syntax for new row Nils added new row\n",
    "\n",
    "#display the result df\n",
    "print(df)"
   ]
  },
  {
   "cell_type": "code",
   "execution_count": null,
   "metadata": {},
   "outputs": [],
   "source": []
  }
 ],
 "metadata": {
  "kernelspec": {
   "display_name": "Python 3",
   "language": "python",
   "name": "python3"
  },
  "language_info": {
   "codemirror_mode": {
    "name": "ipython",
    "version": 3
   },
   "file_extension": ".py",
   "mimetype": "text/x-python",
   "name": "python",
   "nbconvert_exporter": "python",
   "pygments_lexer": "ipython3",
   "version": "3.12.4"
  }
 },
 "nbformat": 4,
 "nbformat_minor": 2
}
